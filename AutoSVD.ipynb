{
 "cells": [
  {
   "cell_type": "code",
   "execution_count": 3,
   "metadata": {
    "executionInfo": {
     "elapsed": 304,
     "status": "ok",
     "timestamp": 1645114968468,
     "user": {
      "displayName": "Scott Dawson",
      "photoUrl": "https://lh3.googleusercontent.com/a-/AOh14GiYsAbH4ZmCPp9SL6lzYjAM_RdEj2WiZRmOvSOk=s64",
      "userId": "02878913788967589265"
     },
     "user_tz": 360
    },
    "id": "p-rkk_D8KfpC"
   },
   "outputs": [],
   "source": [
    "import numpy as np\n",
    "from numpy import linalg \n",
    "from matplotlib import cm\n",
    "from matplotlib import pyplot as plt\n",
    "from scipy.optimize import minimize\n",
    "from scipy.linalg import qr\n",
    "from scipy import io\n",
    "import os\n",
    "import tensorflow as tf\n",
    "from tensorflow import keras\n",
    "from tensorflow.keras import layers, models, optimizers, callbacks\n",
    "from keras.layers import Dense, Conv2D, Flatten, MaxPool2D\n",
    "\n",
    "\n",
    "y = np.linspace(-2,2,401) # spatial coordinate\n",
    "Ny = np.size(y)\n",
    "\n",
    "amp1 = 1\n",
    "y01 = 0.5\n",
    "sigmay1 = 0.6\n",
    "\n",
    "amp2 = 1.2\n",
    "y02 = -0.5\n",
    "sigmay2 = 0.3\n",
    "\n",
    "dt = 0.1\n",
    "Nt = 101\n",
    "tend = dt*(Nt-1)\n",
    "t = np.linspace(0,tend,Nt) # time\n",
    "\n",
    "omega1 = 1.3\n",
    "omega2 = 4.1\n",
    "\n",
    "v1 = amp1*np.exp(-((y-y01)**2)/(2*sigmay1**2))\n",
    "v2 = amp2*np.exp(-((y-y02)**2)/(2*sigmay2**2))\n",
    "\n",
    "X = np.zeros([Ny,Nt],dtype=complex)\n",
    "for tt in range(Nt):\n",
    "    X[:,tt] = v1*np.cos(omega1*t[tt])+v2*np.cos(omega2*t[tt]) "
   ]
  },
  {
   "cell_type": "code",
   "execution_count": 2,
   "metadata": {
    "id": "x6ZpjqyaKfpG"
   },
   "outputs": [
    {
     "data": {
      "text/plain": [
       "(401, 101)"
      ]
     },
     "execution_count": 2,
     "metadata": {},
     "output_type": "execute_result"
    }
   ],
   "source": [
    "np.shape(X)"
   ]
  },
  {
   "cell_type": "code",
   "execution_count": 2,
   "metadata": {},
   "outputs": [
    {
     "ename": "NameError",
     "evalue": "name 'np' is not defined",
     "output_type": "error",
     "traceback": [
      "\u001b[0;31m---------------------------------------------------------------------------\u001b[0m",
      "\u001b[0;31mNameError\u001b[0m                                 Traceback (most recent call last)",
      "\u001b[0;32m/var/folders/s0/s1yz1_7570sc6wjmf5rlf6x00000gn/T/ipykernel_28812/3199694011.py\u001b[0m in \u001b[0;36m<module>\u001b[0;34m\u001b[0m\n\u001b[1;32m      1\u001b[0m \u001b[0;31m# Compute SVD and plot against spatial values\u001b[0m\u001b[0;34m\u001b[0m\u001b[0;34m\u001b[0m\u001b[0;34m\u001b[0m\u001b[0m\n\u001b[0;32m----> 2\u001b[0;31m \u001b[0mu\u001b[0m\u001b[0;34m,\u001b[0m \u001b[0ms\u001b[0m\u001b[0;34m,\u001b[0m \u001b[0mvh\u001b[0m \u001b[0;34m=\u001b[0m \u001b[0mnp\u001b[0m\u001b[0;34m.\u001b[0m\u001b[0mlinalg\u001b[0m\u001b[0;34m.\u001b[0m\u001b[0msvd\u001b[0m\u001b[0;34m(\u001b[0m\u001b[0mX\u001b[0m\u001b[0;34m)\u001b[0m\u001b[0;34m\u001b[0m\u001b[0;34m\u001b[0m\u001b[0m\n\u001b[0m\u001b[1;32m      3\u001b[0m \u001b[0mplt\u001b[0m\u001b[0;34m.\u001b[0m\u001b[0mplot\u001b[0m\u001b[0;34m(\u001b[0m\u001b[0my\u001b[0m\u001b[0;34m,\u001b[0m \u001b[0mu\u001b[0m\u001b[0;34m[\u001b[0m\u001b[0;36m1\u001b[0m\u001b[0;34m,\u001b[0m\u001b[0;34m:\u001b[0m\u001b[0;34m]\u001b[0m\u001b[0;34m)\u001b[0m\u001b[0;34m\u001b[0m\u001b[0;34m\u001b[0m\u001b[0m\n\u001b[1;32m      4\u001b[0m \u001b[0;34m\u001b[0m\u001b[0m\n",
      "\u001b[0;31mNameError\u001b[0m: name 'np' is not defined"
     ]
    }
   ],
   "source": [
    "# Compute SVD and plot against spatial values\n",
    "u, s, vh = np.linalg.svd(X)\n",
    "plt.plot(y, u[1,:])"
   ]
  },
  {
   "cell_type": "code",
   "execution_count": 1,
   "metadata": {},
   "outputs": [
    {
     "ename": "NameError",
     "evalue": "name 'u' is not defined",
     "output_type": "error",
     "traceback": [
      "\u001b[0;31m---------------------------------------------------------------------------\u001b[0m",
      "\u001b[0;31mNameError\u001b[0m                                 Traceback (most recent call last)",
      "\u001b[0;32m/var/folders/s0/s1yz1_7570sc6wjmf5rlf6x00000gn/T/ipykernel_28812/1925569566.py\u001b[0m in \u001b[0;36m<module>\u001b[0;34m\u001b[0m\n\u001b[1;32m      3\u001b[0m \u001b[0mr\u001b[0m \u001b[0;34m=\u001b[0m \u001b[0;36m2\u001b[0m\u001b[0;34m\u001b[0m\u001b[0;34m\u001b[0m\u001b[0m\n\u001b[1;32m      4\u001b[0m \u001b[0;31m# Truncate u to have same dimensions\u001b[0m\u001b[0;34m\u001b[0m\u001b[0;34m\u001b[0m\u001b[0;34m\u001b[0m\u001b[0m\n\u001b[0;32m----> 5\u001b[0;31m \u001b[0mur\u001b[0m \u001b[0;34m=\u001b[0m \u001b[0mu\u001b[0m\u001b[0;34m[\u001b[0m\u001b[0;34m:\u001b[0m\u001b[0;34m,\u001b[0m\u001b[0;34m:\u001b[0m\u001b[0mr\u001b[0m\u001b[0;34m]\u001b[0m\u001b[0;34m\u001b[0m\u001b[0;34m\u001b[0m\u001b[0m\n\u001b[0m\u001b[1;32m      6\u001b[0m \u001b[0mQ\u001b[0m\u001b[0;34m,\u001b[0m\u001b[0mR\u001b[0m\u001b[0;34m,\u001b[0m\u001b[0mP\u001b[0m \u001b[0;34m=\u001b[0m \u001b[0mqr\u001b[0m\u001b[0;34m(\u001b[0m\u001b[0mnp\u001b[0m\u001b[0;34m.\u001b[0m\u001b[0mtranspose\u001b[0m\u001b[0;34m(\u001b[0m\u001b[0mur\u001b[0m\u001b[0;34m)\u001b[0m\u001b[0;34m,\u001b[0m\u001b[0mpivoting\u001b[0m\u001b[0;34m=\u001b[0m\u001b[0;32mTrue\u001b[0m\u001b[0;34m)\u001b[0m\u001b[0;34m\u001b[0m\u001b[0;34m\u001b[0m\u001b[0m\n\u001b[1;32m      7\u001b[0m \u001b[0mnspace\u001b[0m\u001b[0;34m,\u001b[0m \u001b[0mntime\u001b[0m \u001b[0;34m=\u001b[0m \u001b[0mX\u001b[0m\u001b[0;34m.\u001b[0m\u001b[0mshape\u001b[0m\u001b[0;34m\u001b[0m\u001b[0;34m\u001b[0m\u001b[0m\n",
      "\u001b[0;31mNameError\u001b[0m: name 'u' is not defined"
     ]
    }
   ],
   "source": [
    "# QR Pivoting Method\n",
    "\n",
    "r = 2\n",
    "# Truncate u to have same dimensions\n",
    "ur = u[:,:r]\n",
    "Q,R,P = qr(np.transpose(ur),pivoting=True)\n",
    "nspace, ntime = X.shape\n",
    "timeIndex = 0\n",
    "\n",
    "DataMean = np.mean(X,axis=1)\n",
    "DataSub = X - np.tile(DataMean[:,np.newaxis],(1,ntime))\n",
    "\n",
    "optimalSampleLocations = P[:r]\n",
    "print(optimalSampleLocations)\n",
    "\n",
    "# Do reconstruction with these measurements\n",
    "OptimalMeasurements = DataSub[optimalSampleLocations,timeIndex]\n",
    "# estimate coefficients of singular vectors from these measurements\n",
    "cOpt = np.linalg.pinv(ur[optimalSampleLocations,:])@OptimalMeasurements\n",
    "\n",
    "np.shape(DataSub)"
   ]
  },
  {
   "cell_type": "code",
   "execution_count": null,
   "metadata": {},
   "outputs": [],
   "source": [
    "ny, nx = X.shape\n",
    "inputs = keras.Input(shape =(nspace,))\n",
    "\n",
    "encodedDim = 4\n",
    "\n",
    "# add a hidden layer to encode our data\n",
    "\n",
    "HiddenLayer = layers.Dense(encodedDim,activation = 'linear')\n",
    "encoding = HiddenLayer(inputs)\n",
    "\n",
    "encoder = keras.Model(inputs,encoding, name=\"encoder\")\n",
    "print(encoder.summary())"
   ]
  },
  {
   "cell_type": "code",
   "execution_count": null,
   "metadata": {},
   "outputs": [],
   "source": [
    "# decoder\n",
    "decoder_input = layers.Input(shape = (encodedDim,))\n",
    "# add output layer\n",
    "outputlayer = layers.Dense(nspace,activation = 'linear')\n",
    "outputs = outputlayer(decoder_input)\n",
    "decoder = keras.Model(decoder_input,outputs, name=\"decoder\")\n",
    "print(decoder.summary())"
   ]
  },
  {
   "cell_type": "code",
   "execution_count": null,
   "metadata": {},
   "outputs": [],
   "source": [
    "output_auto = decoder(encoder(inputs))\n",
    "model = models.Model(inputs,output_auto)\n",
    "print(model.summary())"
   ]
  },
  {
   "cell_type": "code",
   "execution_count": null,
   "metadata": {},
   "outputs": [],
   "source": [
    "# Training\n",
    "TrainingInputs = np.transpose(DataSub) #mean-subtracted data\n",
    "TrainingOutputs = np.transpose(DataSub)\n",
    "\n",
    "model.compile(optimizer = 'adam', loss = 'mse')\n",
    "history = model.fit(TrainingInputs,TrainingOutputs,batch_size=62,epochs= 200)"
   ]
  },
  {
   "cell_type": "code",
   "execution_count": null,
   "metadata": {},
   "outputs": [],
   "source": [
    "# Pass all of our data through the Autoencoder\n",
    "\n",
    "TestData = np.transpose(DataSub)\n",
    "ReconstructedData = model.predict(TestData)\n",
    "ReconstructedDataT = np.transpose(ReconstructedData)\n",
    "\n",
    "\n",
    "plt.plot(y, ReconstructedDataT)\n",
    "plt.xlabel(\"Spatial Coordinate\")\n",
    "plt.ylabel(\"Data Values\")\n",
    "plt.title(\"Autoencoder (All Timesteps on single plot) \")"
   ]
  },
  {
   "cell_type": "code",
   "execution_count": null,
   "metadata": {},
   "outputs": [],
   "source": [
    "# Look at SVD\n",
    "\n",
    "U,Sigma,VT = np.linalg.svd(DataSub,full_matrices=0)\n",
    "# truncate SVD to the same dimension as the autoencoder\n",
    "Ur = U[:,:encodedDim] \n",
    "Sigmar = np.diag(Sigma[:encodedDim])\n",
    "VTr = VT[:encodedDim,:]"
   ]
  },
  {
   "cell_type": "code",
   "execution_count": null,
   "metadata": {},
   "outputs": [],
   "source": [
    "# Compare the total error from Autoencoder to SVD\n",
    "\n",
    "ErrorSVD = np.linalg.norm(DataSub-Ur@Sigmar@VTr)\n",
    "print(ErrorSVD/(nspace*ntime))\n",
    "\n",
    "ErrorAE = np.linalg.norm(DataSub-ReconstructedDataT)\n",
    "print(ErrorAE/(nspace*ntime))\n",
    "\n",
    "# The different between the two is seemingly minimal\n"
   ]
  },
  {
   "cell_type": "code",
   "execution_count": null,
   "metadata": {},
   "outputs": [],
   "source": [
    "# Visualize SVD\n",
    "\n",
    "plt.plot(y, u)\n",
    "plt.xlabel(\"Spatial Coordinate\")\n",
    "plt.ylabel(\"Left Singular Values\")\n",
    "plt.title(\"SVD (All Timesteps on single plot) \")"
   ]
  },
  {
   "cell_type": "code",
   "execution_count": null,
   "metadata": {},
   "outputs": [],
   "source": []
  }
 ],
 "metadata": {
  "colab": {
   "collapsed_sections": [],
   "name": "hw2Q2.ipynb",
   "provenance": []
  },
  "kernelspec": {
   "display_name": "Python 3 (ipykernel)",
   "language": "python",
   "name": "python3"
  },
  "language_info": {
   "codemirror_mode": {
    "name": "ipython",
    "version": 3
   },
   "file_extension": ".py",
   "mimetype": "text/x-python",
   "name": "python",
   "nbconvert_exporter": "python",
   "pygments_lexer": "ipython3",
   "version": "3.7.13"
  }
 },
 "nbformat": 4,
 "nbformat_minor": 1
}
